{
 "cells": [
  {
   "cell_type": "markdown",
   "metadata": {},
   "source": [
    "# Basics of Pandas , Numpy , Matplotlib and Sklearn for Data science and ML\n"
   ]
  },
  {
   "cell_type": "markdown",
   "metadata": {
    "collapsed": true
   },
   "source": [
    "## Pandas\n"
   ]
  },
  {
   "cell_type": "code",
   "execution_count": 18,
   "metadata": {},
   "outputs": [
    {
     "data": {
      "text/html": [
       "<div>\n",
       "<style>\n",
       "    .dataframe thead tr:only-child th {\n",
       "        text-align: right;\n",
       "    }\n",
       "\n",
       "    .dataframe thead th {\n",
       "        text-align: left;\n",
       "    }\n",
       "\n",
       "    .dataframe tbody tr th {\n",
       "        vertical-align: top;\n",
       "    }\n",
       "</style>\n",
       "<table border=\"1\" class=\"dataframe\">\n",
       "  <thead>\n",
       "    <tr style=\"text-align: right;\">\n",
       "      <th></th>\n",
       "      <th>1|24|M|technician|85711</th>\n",
       "    </tr>\n",
       "  </thead>\n",
       "  <tbody>\n",
       "    <tr>\n",
       "      <th>0</th>\n",
       "      <td>2|53|F|other|94043</td>\n",
       "    </tr>\n",
       "    <tr>\n",
       "      <th>1</th>\n",
       "      <td>3|23|M|writer|32067</td>\n",
       "    </tr>\n",
       "    <tr>\n",
       "      <th>2</th>\n",
       "      <td>4|24|M|technician|43537</td>\n",
       "    </tr>\n",
       "    <tr>\n",
       "      <th>3</th>\n",
       "      <td>5|33|F|other|15213</td>\n",
       "    </tr>\n",
       "    <tr>\n",
       "      <th>4</th>\n",
       "      <td>6|42|M|executive|98101</td>\n",
       "    </tr>\n",
       "  </tbody>\n",
       "</table>\n",
       "</div>"
      ],
      "text/plain": [
       "   1|24|M|technician|85711\n",
       "0       2|53|F|other|94043\n",
       "1      3|23|M|writer|32067\n",
       "2  4|24|M|technician|43537\n",
       "3       5|33|F|other|15213\n",
       "4   6|42|M|executive|98101"
      ]
     },
     "execution_count": 18,
     "metadata": {},
     "output_type": "execute_result"
    }
   ],
   "source": [
    "import pandas as pd\n",
    "pd.read_table('http://bit.ly/movieusers').head()"
   ]
  },
  {
   "cell_type": "code",
   "execution_count": 11,
   "metadata": {},
   "outputs": [
    {
     "data": {
      "text/html": [
       "<div>\n",
       "<style>\n",
       "    .dataframe thead tr:only-child th {\n",
       "        text-align: right;\n",
       "    }\n",
       "\n",
       "    .dataframe thead th {\n",
       "        text-align: left;\n",
       "    }\n",
       "\n",
       "    .dataframe tbody tr th {\n",
       "        vertical-align: top;\n",
       "    }\n",
       "</style>\n",
       "<table border=\"1\" class=\"dataframe\">\n",
       "  <thead>\n",
       "    <tr style=\"text-align: right;\">\n",
       "      <th></th>\n",
       "      <th>1</th>\n",
       "      <th>24</th>\n",
       "      <th>M</th>\n",
       "      <th>technician</th>\n",
       "      <th>85711</th>\n",
       "    </tr>\n",
       "  </thead>\n",
       "  <tbody>\n",
       "    <tr>\n",
       "      <th>0</th>\n",
       "      <td>2</td>\n",
       "      <td>53</td>\n",
       "      <td>F</td>\n",
       "      <td>other</td>\n",
       "      <td>94043</td>\n",
       "    </tr>\n",
       "    <tr>\n",
       "      <th>1</th>\n",
       "      <td>3</td>\n",
       "      <td>23</td>\n",
       "      <td>M</td>\n",
       "      <td>writer</td>\n",
       "      <td>32067</td>\n",
       "    </tr>\n",
       "    <tr>\n",
       "      <th>2</th>\n",
       "      <td>4</td>\n",
       "      <td>24</td>\n",
       "      <td>M</td>\n",
       "      <td>technician</td>\n",
       "      <td>43537</td>\n",
       "    </tr>\n",
       "    <tr>\n",
       "      <th>3</th>\n",
       "      <td>5</td>\n",
       "      <td>33</td>\n",
       "      <td>F</td>\n",
       "      <td>other</td>\n",
       "      <td>15213</td>\n",
       "    </tr>\n",
       "    <tr>\n",
       "      <th>4</th>\n",
       "      <td>6</td>\n",
       "      <td>42</td>\n",
       "      <td>M</td>\n",
       "      <td>executive</td>\n",
       "      <td>98101</td>\n",
       "    </tr>\n",
       "  </tbody>\n",
       "</table>\n",
       "</div>"
      ],
      "text/plain": [
       "   1  24  M  technician  85711\n",
       "0  2  53  F       other  94043\n",
       "1  3  23  M      writer  32067\n",
       "2  4  24  M  technician  43537\n",
       "3  5  33  F       other  15213\n",
       "4  6  42  M   executive  98101"
      ]
     },
     "execution_count": 11,
     "metadata": {},
     "output_type": "execute_result"
    }
   ],
   "source": [
    "import pandas as pd\n",
    "pd.read_table('http://bit.ly/movieusers', sep ='|').head()\n",
    "# the prob with this is that the 1st row of the data is treated as header so to solve this, give the header name"
   ]
  },
  {
   "cell_type": "code",
   "execution_count": null,
   "metadata": {
    "collapsed": true
   },
   "outputs": [],
   "source": []
  },
  {
   "cell_type": "code",
   "execution_count": 70,
   "metadata": {},
   "outputs": [
    {
     "data": {
      "text/html": [
       "<div>\n",
       "<style>\n",
       "    .dataframe thead tr:only-child th {\n",
       "        text-align: right;\n",
       "    }\n",
       "\n",
       "    .dataframe thead th {\n",
       "        text-align: left;\n",
       "    }\n",
       "\n",
       "    .dataframe tbody tr th {\n",
       "        vertical-align: top;\n",
       "    }\n",
       "</style>\n",
       "<table border=\"1\" class=\"dataframe\">\n",
       "  <thead>\n",
       "    <tr style=\"text-align: right;\">\n",
       "      <th></th>\n",
       "      <th>Number</th>\n",
       "      <th>Age</th>\n",
       "      <th>Sex</th>\n",
       "      <th>Post</th>\n",
       "      <th>Pincode</th>\n",
       "    </tr>\n",
       "  </thead>\n",
       "  <tbody>\n",
       "    <tr>\n",
       "      <th>0</th>\n",
       "      <td>1</td>\n",
       "      <td>24</td>\n",
       "      <td>M</td>\n",
       "      <td>technician</td>\n",
       "      <td>85711</td>\n",
       "    </tr>\n",
       "    <tr>\n",
       "      <th>1</th>\n",
       "      <td>2</td>\n",
       "      <td>53</td>\n",
       "      <td>F</td>\n",
       "      <td>other</td>\n",
       "      <td>94043</td>\n",
       "    </tr>\n",
       "    <tr>\n",
       "      <th>2</th>\n",
       "      <td>3</td>\n",
       "      <td>23</td>\n",
       "      <td>M</td>\n",
       "      <td>writer</td>\n",
       "      <td>32067</td>\n",
       "    </tr>\n",
       "    <tr>\n",
       "      <th>3</th>\n",
       "      <td>4</td>\n",
       "      <td>24</td>\n",
       "      <td>M</td>\n",
       "      <td>technician</td>\n",
       "      <td>43537</td>\n",
       "    </tr>\n",
       "    <tr>\n",
       "      <th>4</th>\n",
       "      <td>5</td>\n",
       "      <td>33</td>\n",
       "      <td>F</td>\n",
       "      <td>other</td>\n",
       "      <td>15213</td>\n",
       "    </tr>\n",
       "  </tbody>\n",
       "</table>\n",
       "</div>"
      ],
      "text/plain": [
       "   Number  Age Sex        Post Pincode\n",
       "0       1   24   M  technician   85711\n",
       "1       2   53   F       other   94043\n",
       "2       3   23   M      writer   32067\n",
       "3       4   24   M  technician   43537\n",
       "4       5   33   F       other   15213"
      ]
     },
     "execution_count": 70,
     "metadata": {},
     "output_type": "execute_result"
    }
   ],
   "source": [
    "user_cols = ['Number','Age','Sex','Post','Pincode']\n",
    "pd.read_table('http://bit.ly/movieusers', sep = '|', header=None,names = user_cols).head()"
   ]
  },
  {
   "cell_type": "code",
   "execution_count": 15,
   "metadata": {},
   "outputs": [
    {
     "name": "stdout",
     "output_type": "stream",
     "text": [
      "<class 'pandas.core.frame.DataFrame'>\n"
     ]
    },
    {
     "data": {
      "text/html": [
       "<div>\n",
       "<style>\n",
       "    .dataframe thead tr:only-child th {\n",
       "        text-align: right;\n",
       "    }\n",
       "\n",
       "    .dataframe thead th {\n",
       "        text-align: left;\n",
       "    }\n",
       "\n",
       "    .dataframe tbody tr th {\n",
       "        vertical-align: top;\n",
       "    }\n",
       "</style>\n",
       "<table border=\"1\" class=\"dataframe\">\n",
       "  <thead>\n",
       "    <tr style=\"text-align: right;\">\n",
       "      <th></th>\n",
       "      <th>country</th>\n",
       "      <th>beer_servings</th>\n",
       "      <th>spirit_servings</th>\n",
       "      <th>wine_servings</th>\n",
       "      <th>total_litres_of_pure_alcohol</th>\n",
       "      <th>continent</th>\n",
       "    </tr>\n",
       "  </thead>\n",
       "  <tbody>\n",
       "    <tr>\n",
       "      <th>188</th>\n",
       "      <td>Venezuela</td>\n",
       "      <td>333</td>\n",
       "      <td>100</td>\n",
       "      <td>3</td>\n",
       "      <td>7.7</td>\n",
       "      <td>South America</td>\n",
       "    </tr>\n",
       "    <tr>\n",
       "      <th>189</th>\n",
       "      <td>Vietnam</td>\n",
       "      <td>111</td>\n",
       "      <td>2</td>\n",
       "      <td>1</td>\n",
       "      <td>2.0</td>\n",
       "      <td>Asia</td>\n",
       "    </tr>\n",
       "    <tr>\n",
       "      <th>190</th>\n",
       "      <td>Yemen</td>\n",
       "      <td>6</td>\n",
       "      <td>0</td>\n",
       "      <td>0</td>\n",
       "      <td>0.1</td>\n",
       "      <td>Asia</td>\n",
       "    </tr>\n",
       "    <tr>\n",
       "      <th>191</th>\n",
       "      <td>Zambia</td>\n",
       "      <td>32</td>\n",
       "      <td>19</td>\n",
       "      <td>4</td>\n",
       "      <td>2.5</td>\n",
       "      <td>Africa</td>\n",
       "    </tr>\n",
       "    <tr>\n",
       "      <th>192</th>\n",
       "      <td>Zimbabwe</td>\n",
       "      <td>64</td>\n",
       "      <td>18</td>\n",
       "      <td>4</td>\n",
       "      <td>4.7</td>\n",
       "      <td>Africa</td>\n",
       "    </tr>\n",
       "  </tbody>\n",
       "</table>\n",
       "</div>"
      ],
      "text/plain": [
       "       country  beer_servings  spirit_servings  wine_servings  \\\n",
       "188  Venezuela            333              100              3   \n",
       "189    Vietnam            111                2              1   \n",
       "190      Yemen              6                0              0   \n",
       "191     Zambia             32               19              4   \n",
       "192   Zimbabwe             64               18              4   \n",
       "\n",
       "     total_litres_of_pure_alcohol      continent  \n",
       "188                           7.7  South America  \n",
       "189                           2.0           Asia  \n",
       "190                           0.1           Asia  \n",
       "191                           2.5         Africa  \n",
       "192                           4.7         Africa  "
      ]
     },
     "execution_count": 15,
     "metadata": {},
     "output_type": "execute_result"
    }
   ],
   "source": [
    "drinks= pd.read_csv('C:\\\\Users\\\\SHOBHIT\\\\Downloads\\\\drinksbycountry.csv')\n",
    "print(type(drinks))\n",
    "drinks.tail()"
   ]
  },
  {
   "cell_type": "code",
   "execution_count": 17,
   "metadata": {},
   "outputs": [
    {
     "data": {
      "text/html": [
       "<div>\n",
       "<style>\n",
       "    .dataframe thead tr:only-child th {\n",
       "        text-align: right;\n",
       "    }\n",
       "\n",
       "    .dataframe thead th {\n",
       "        text-align: left;\n",
       "    }\n",
       "\n",
       "    .dataframe tbody tr th {\n",
       "        vertical-align: top;\n",
       "    }\n",
       "</style>\n",
       "<table border=\"1\" class=\"dataframe\">\n",
       "  <thead>\n",
       "    <tr style=\"text-align: right;\">\n",
       "      <th></th>\n",
       "      <th>beer_servings</th>\n",
       "      <th>spirit_servings</th>\n",
       "      <th>wine_servings</th>\n",
       "      <th>total_litres_of_pure_alcohol</th>\n",
       "    </tr>\n",
       "    <tr>\n",
       "      <th>continent</th>\n",
       "      <th></th>\n",
       "      <th></th>\n",
       "      <th></th>\n",
       "      <th></th>\n",
       "    </tr>\n",
       "  </thead>\n",
       "  <tbody>\n",
       "    <tr>\n",
       "      <th>Africa</th>\n",
       "      <td>3258</td>\n",
       "      <td>866</td>\n",
       "      <td>862</td>\n",
       "      <td>159.4</td>\n",
       "    </tr>\n",
       "    <tr>\n",
       "      <th>Asia</th>\n",
       "      <td>1630</td>\n",
       "      <td>2677</td>\n",
       "      <td>399</td>\n",
       "      <td>95.5</td>\n",
       "    </tr>\n",
       "    <tr>\n",
       "      <th>Europe</th>\n",
       "      <td>8720</td>\n",
       "      <td>5965</td>\n",
       "      <td>6400</td>\n",
       "      <td>387.8</td>\n",
       "    </tr>\n",
       "    <tr>\n",
       "      <th>North America</th>\n",
       "      <td>3345</td>\n",
       "      <td>3812</td>\n",
       "      <td>564</td>\n",
       "      <td>137.9</td>\n",
       "    </tr>\n",
       "    <tr>\n",
       "      <th>Oceania</th>\n",
       "      <td>1435</td>\n",
       "      <td>935</td>\n",
       "      <td>570</td>\n",
       "      <td>54.1</td>\n",
       "    </tr>\n",
       "    <tr>\n",
       "      <th>South America</th>\n",
       "      <td>2101</td>\n",
       "      <td>1377</td>\n",
       "      <td>749</td>\n",
       "      <td>75.7</td>\n",
       "    </tr>\n",
       "  </tbody>\n",
       "</table>\n",
       "</div>"
      ],
      "text/plain": [
       "               beer_servings  spirit_servings  wine_servings  \\\n",
       "continent                                                      \n",
       "Africa                  3258              866            862   \n",
       "Asia                    1630             2677            399   \n",
       "Europe                  8720             5965           6400   \n",
       "North America           3345             3812            564   \n",
       "Oceania                 1435              935            570   \n",
       "South America           2101             1377            749   \n",
       "\n",
       "               total_litres_of_pure_alcohol  \n",
       "continent                                    \n",
       "Africa                                159.4  \n",
       "Asia                                   95.5  \n",
       "Europe                                387.8  \n",
       "North America                         137.9  \n",
       "Oceania                                54.1  \n",
       "South America                          75.7  "
      ]
     },
     "execution_count": 17,
     "metadata": {},
     "output_type": "execute_result"
    }
   ],
   "source": [
    "drinks.groupby('continent').sum()"
   ]
  },
  {
   "cell_type": "markdown",
   "metadata": {},
   "source": [
    "## Numpy\n"
   ]
  },
  {
   "cell_type": "code",
   "execution_count": 7,
   "metadata": {},
   "outputs": [
    {
     "ename": "TypeError",
     "evalue": "can't multiply sequence by non-int of type 'list'",
     "output_type": "error",
     "traceback": [
      "\u001b[1;31m---------------------------------------------------------------------------\u001b[0m",
      "\u001b[1;31mTypeError\u001b[0m                                 Traceback (most recent call last)",
      "\u001b[1;32m<ipython-input-7-d4313e824a9c>\u001b[0m in \u001b[0;36m<module>\u001b[1;34m()\u001b[0m\n\u001b[0;32m      8\u001b[0m \u001b[1;31m#print(x*y) # this will execute as the elements are converted into numpy arrays and can perform element to element calculations\u001b[0m\u001b[1;33m\u001b[0m\u001b[1;33m\u001b[0m\u001b[0m\n\u001b[0;32m      9\u001b[0m \u001b[1;33m\u001b[0m\u001b[0m\n\u001b[1;32m---> 10\u001b[1;33m \u001b[0mprint\u001b[0m \u001b[1;33m(\u001b[0m\u001b[0ma\u001b[0m\u001b[1;33m*\u001b[0m\u001b[0mb\u001b[0m\u001b[1;33m)\u001b[0m\u001b[1;33m;\u001b[0m \u001b[1;31m#-- this will give error because lists cannot do calculations.\u001b[0m\u001b[1;33m\u001b[0m\u001b[0m\n\u001b[0m\u001b[0;32m     11\u001b[0m \u001b[1;33m\u001b[0m\u001b[0m\n\u001b[0;32m     12\u001b[0m \u001b[1;31m#print(x+y)  # this will do addition of elements , numpy array\u001b[0m\u001b[1;33m\u001b[0m\u001b[1;33m\u001b[0m\u001b[0m\n",
      "\u001b[1;31mTypeError\u001b[0m: can't multiply sequence by non-int of type 'list'"
     ]
    }
   ],
   "source": [
    "import numpy as np\n",
    "import sys\n",
    "a=[1,2,3,4]\n",
    "b=[5,5,5.5,9]\n",
    "x=np.array(a) # this will create numpy array from normal list\n",
    "y=np.array(b) # this will create numpy array from normal list\n",
    "\n",
    "#print(x*y) # this will execute as the elements are converted into numpy arrays and can perform element to element calculations\n",
    "\n",
    "#print (a*b); #-- this will give error because lists cannot do calculations.\n",
    "\n",
    "#print(x+y)  # this will do addition of elements , numpy array\n",
    "#print(a+b) # this will add element of both the list , simple python lists\n",
    "\n",
    "# print (type (x)) # this will show x is numpy array\n",
    "# print (type (a)) # this will show a is a list\n",
    "\n",
    "#print (np.shape(x)) # this show the columns and rows of x"
   ]
  },
  {
   "cell_type": "code",
   "execution_count": 8,
   "metadata": {},
   "outputs": [
    {
     "name": "stdout",
     "output_type": "stream",
     "text": [
      "[['1' '2' '3']\n",
      " ['4' '5' '6']]\n",
      "[[ 1.2  3.   4. ]\n",
      " [ 5.2  2.2  8.1]]\n",
      "(2, 3)\n"
     ]
    }
   ],
   "source": [
    "# n dimensional arrays\n",
    "#2 dimensional arrays\n",
    "array1=(\n",
    "        [1,2,3],\n",
    "        [4,5,\"6\"]\n",
    "        )\n",
    "xx= np.array(array1)\n",
    "print (np.array(array1))\n",
    "# the above array elements are converted to string as numpy array can only store 1 type of elements\n",
    "\n",
    "array2 = (\n",
    "          [1.2,3,4],\n",
    "          [5.2,2.2,8.1]\n",
    "         )\n",
    "yy = np.array(array2)\n",
    "print (np.array(array2))\n",
    "#the above array elements are converted to float as numpy array can only store 1 type of elements\n",
    "\n",
    "print (np.shape (xx)) # (2,3) two rows and each row with 3 elements"
   ]
  },
  {
   "cell_type": "code",
   "execution_count": 18,
   "metadata": {},
   "outputs": [
    {
     "name": "stdout",
     "output_type": "stream",
     "text": [
      "[[ 0.61190977  0.68077667  0.94996221]\n",
      " [ 0.18609148  0.45499108  0.82523644]\n",
      " [ 0.29329412  0.43977808  0.90846199]\n",
      " [ 0.97633813  0.29156262  0.79207206]\n",
      " [ 0.31428864  0.3979219   0.8743506 ]]\n",
      "[[ 0.28048045]\n",
      " [ 0.04228357]\n",
      " [ 0.37203913]\n",
      " [ 0.68992023]\n",
      " [ 0.45348651]]\n",
      "[ 0.34274002  0.62051084  0.10797844  0.75348712]\n"
     ]
    }
   ],
   "source": [
    "# random number generation by using Numpy\n",
    "random1= np.random.rand(5,3) # (row,columns)\n",
    "random2 = np.random.rand(5,1)\n",
    "random3 = np.random.rand(4)\n",
    "\n",
    "print(random1)\n",
    "print(random2)\n",
    "print(random3)"
   ]
  },
  {
   "cell_type": "code",
   "execution_count": 9,
   "metadata": {},
   "outputs": [
    {
     "name": "stdout",
     "output_type": "stream",
     "text": [
      "264\n",
      "[1 3 4]\n",
      "<class 'numpy.ndarray'>\n",
      "3\n",
      "4\n",
      "12\n"
     ]
    }
   ],
   "source": [
    "# size and memory allocation in numpy as compared to python lists\n",
    "a = [1,3,4]\n",
    "size = sys.getsizeof(a)*len(a)\n",
    "print (size) # size of list\n",
    "na = np.array(a)\n",
    "print (na)\n",
    "print (type(na))\n",
    "print (na.size) # number of elements in array\n",
    "print (na.itemsize) # size of each element in array\n",
    "nsize = na.size*na.itemsize\n",
    "print (nsize) # size of complete numpy array\n"
   ]
  },
  {
   "cell_type": "code",
   "execution_count": 25,
   "metadata": {},
   "outputs": [
    {
     "name": "stdout",
     "output_type": "stream",
     "text": [
      "[[1 2 3]\n",
      " [4 5 6]]\n",
      "[[1 2]\n",
      " [3 4]\n",
      " [5 6]]\n"
     ]
    }
   ],
   "source": [
    "# reshaping numpy array\n",
    "x= [[1,2,3],\n",
    "    [4,5,6]]\n",
    "\n",
    "# creating numpy array\n",
    "xx = np.array(x)\n",
    "print (xx)\n",
    "# reshaping ( changing dimensions )\n",
    "reshape_np = xx.reshape(3,2)\n",
    "print (reshape_np)\n"
   ]
  },
  {
   "cell_type": "code",
   "execution_count": 27,
   "metadata": {},
   "outputs": [
    {
     "name": "stdout",
     "output_type": "stream",
     "text": [
      "[[1 2 3]\n",
      " [4 5 6]\n",
      " [6 7 8]]\n",
      "<class 'numpy.ndarray'>\n",
      "\n",
      "\n",
      "[2 5]\n"
     ]
    }
   ],
   "source": [
    "#slicing\n",
    "na = np.array(\n",
    "                [\n",
    "                    [1,2,3]\n",
    "                    ,[4,5,6]\n",
    "                    ,[6,7,8]\n",
    "                ]\n",
    "             )\n",
    "print (na)\n",
    "print(type(na))\n",
    "print ('\\n')\n",
    "print (na[0:2,1])"
   ]
  },
  {
   "cell_type": "code",
   "execution_count": 22,
   "metadata": {},
   "outputs": [
    {
     "name": "stdout",
     "output_type": "stream",
     "text": [
      "[ 1.   1.5  2.   2.5  3. ]\n",
      "1.0\n",
      "3.0\n",
      "10.0\n"
     ]
    }
   ],
   "source": [
    "# Some common mathematical functions\n",
    "# linespace\n",
    "m = np.linspace(1,3,5) # there is a division of 5 between 1 to 3\n",
    "print (m)\n",
    "\n",
    "# # min,max,sum,sum_axis,sqrt,mean,standard_derviation\n",
    "\n",
    "print(m.min())\n",
    "print(m.max())\n",
    "print(m.sum())\n",
    "\n",
    "# print (na,'\\n')\n",
    "# print (na.sum(axis = 0))\n",
    "# print (na.sum(axis =1))\n",
    "\n",
    "# print (np.sqrt(na))\n",
    "# print (np.mean(na))\n",
    "# print (np.std(na))\n"
   ]
  },
  {
   "cell_type": "code",
   "execution_count": 25,
   "metadata": {},
   "outputs": [
    {
     "name": "stdout",
     "output_type": "stream",
     "text": [
      "[[[ 0.27864318  0.05995132  0.06679119  0.93404568]\n",
      "  [ 0.63110956  0.43962191  0.54592711  0.80423502]\n",
      "  [ 0.0251337   0.78471215  0.39319365  0.57555747]]\n",
      "\n",
      " [[ 0.97952608  0.06074937  0.96950896  0.81476524]\n",
      "  [ 0.84684798  0.03260135  0.18541241  0.88589236]\n",
      "  [ 0.98431739  0.39230283  0.11049855  0.33524058]]] \n",
      "\n",
      "[[[ 0.27864318  0.05995132  0.06679119  0.93404568]\n",
      "  [ 0.63110956  0.43962191  0.54592711  0.80423502]\n",
      "  [ 0.0251337   0.78471215  0.39319365  0.57555747]]\n",
      "\n",
      " [[ 0.97952608  0.06074937  0.96950896  0.81476524]\n",
      "  [ 0.84684798  0.03260135  0.18541241  0.88589236]\n",
      "  [ 0.98431739  0.39230283  0.11049855  0.33524058]]] \n",
      "\n",
      "Ravel:\n",
      " [ 0.73774558  0.66746009  0.06821467  0.27083419  0.42100859  0.65086662\n",
      "  0.02209335  0.73373299  0.6796399   0.19777777  0.84808701  0.44124353\n",
      "  0.54770482  0.78517559  0.691159    0.29030729  0.22629707  0.33956023\n",
      "  0.23268189  0.27150004  0.24690641  0.93360408  0.70782573  0.8321653 ]\n"
     ]
    }
   ],
   "source": [
    "# vstack, hstack , revel\n",
    "\n",
    "nb=na\n",
    "print (na,'\\n')\n",
    "print (nb,'\\n')\n",
    "\n",
    "\n",
    "na= np.random.rand(2,3,4)\n",
    "# print ('vstack:\\n',np.vstack((na,nb)))\n",
    "# print ('hstack:\\n',np.hstack((na,nb)))\n",
    "print ('Ravel:\\n',np.ravel(na))\n"
   ]
  },
  {
   "cell_type": "code",
   "execution_count": 26,
   "metadata": {},
   "outputs": [
    {
     "name": "stdout",
     "output_type": "stream",
     "text": [
      "[[[ 0.67262138  0.61899315  0.06816178  0.26753531]\n",
      "  [ 0.40868118  0.60587608  0.02209155  0.66964671]\n",
      "  [ 0.62851298  0.19649091  0.75001649  0.42706422]]\n",
      "\n",
      " [[ 0.52072916  0.70694938  0.63743063  0.28624667]\n",
      "  [ 0.22437055  0.33307247  0.23058796  0.26817683]\n",
      "  [ 0.24440536  0.80376937  0.65018335  0.73939095]]]\n",
      "0.893996663601\n",
      "1.0\n",
      "1.0\n",
      "1.0\n",
      "1.61977519054\n",
      "1.0\n",
      "3.141592653589793\n",
      "[[[-0.13209339 -0.1755747  -1.16612221 -0.56729652]\n",
      "  [-0.37570904 -0.186508   -1.65573852 -0.13446195]\n",
      "  [-0.16772113 -0.70382252 -0.07155959 -0.35532165]]\n",
      "\n",
      " [[-0.26145344 -0.10503321 -0.16042203 -0.53714206]\n",
      "  [-0.64532107 -0.46908318 -0.63323742 -0.56623011]\n",
      "  [-0.60746764 -0.02983726 -0.15007365 -0.0797904 ]]]\n",
      "[[[-0.30415626 -0.40427568 -2.68509563 -1.3062485 ]\n",
      "  [-0.86510204 -0.42945054 -3.81247884 -0.30961009]\n",
      "  [-0.38619218 -1.62061124 -0.16477204 -0.81815833]]\n",
      "\n",
      " [[-0.60201879 -0.2418479  -0.36938538 -1.23681531]\n",
      "  [-1.48590669 -1.08010394 -1.45808305 -1.30379301]\n",
      "  [-1.39874594 -0.06870283 -0.34555736 -0.18372418]]]\n",
      "[[[ 2.09121571  1.94928003  1.07059511  1.31105766]\n",
      "  [ 1.52349737  1.91720159  1.02233921  2.08284134]\n",
      "  [ 1.97316707  1.21869154  2.33517542  1.55463926]]\n",
      "\n",
      " [[ 1.72927945  2.19279195  1.99602759  1.33683822]\n",
      "  [ 1.25394812  1.40432987  1.26197996  1.31193092]\n",
      "  [ 1.2800593   2.54366023  2.02957362  2.29828985]]]\n"
     ]
    }
   ],
   "source": [
    "# Mathematical func\n",
    "\n",
    "print(np.sin(na))\n",
    "x =90\n",
    "print (np.sin(x)) # value in degree\n",
    "print (np.sin(np.deg2rad(x))) # value in radian\n",
    "\n",
    "print (np.cos(0))\n",
    "print (np.cos(np.deg2rad(0)))\n",
    "\n",
    "print (np.tan(45))\n",
    "print (np.tan(np.deg2rad(45)))\n",
    "\n",
    "print (np.pi)\n",
    "\n",
    "print (np.log10(na))\n",
    "print (np.log(na))\n",
    "\n",
    "print (np.exp(na))\n"
   ]
  },
  {
   "cell_type": "code",
   "execution_count": 37,
   "metadata": {},
   "outputs": [
    {
     "name": "stdout",
     "output_type": "stream",
     "text": [
      "[[2 3]\n",
      " [4 3]]\n",
      "[[-0.5         0.5       ]\n",
      " [ 0.66666667 -0.33333333]] \n",
      "\n",
      "-2.0 \n",
      "\n"
     ]
    }
   ],
   "source": [
    "# linear alzebra functions:\n",
    "\n",
    "a= [[2,3],[4,3]]\n",
    "na = np.array(a)\n",
    "print(na)\n",
    "inv1 = np.linalg.inv(na)\n",
    "print (inv1,'\\n')\n",
    "\n",
    "\n",
    "b= [[1,2],[3,4]]\n",
    "naa = np.array(b)\n",
    "det1 = np.linalg.det(naa)\n",
    "print (det1,'\\n')"
   ]
  },
  {
   "cell_type": "markdown",
   "metadata": {},
   "source": [
    "## Matplotlib\n"
   ]
  },
  {
   "cell_type": "code",
   "execution_count": 2,
   "metadata": {},
   "outputs": [
    {
     "data": {
      "image/png": "[encoded data removed]",
      "text/plain": [
       "<matplotlib.figure.Figure at 0x1fc86713080>"
      ]
     },
     "metadata": {},
     "output_type": "display_data"
    }
   ],
   "source": [
    "# # below program is for line plot\n",
    "from matplotlib import pyplot as p1\n",
    "from matplotlib import style\n",
    "style.use('ggplot')\n",
    "x=[1,2,4]\n",
    "y=[7,3,6]\n",
    "\n",
    "a=[3,9,0]\n",
    "b=[3,7,9]\n",
    "\n",
    "p1.plot(x,y,'c',linewidth=4,label='line 1')\n",
    "p1.plot(a,b,'g',linewidth=5,label='line 2')\n",
    "\n",
    "p1.title ('My graph')\n",
    "p1.xlabel('X axis-->')\n",
    "p1.ylabel('Y axis-->')\n",
    "p1.legend()\n",
    "p1.grid(True,color ='k')\n",
    "p1.show()"
   ]
  },
  {
   "cell_type": "code",
   "execution_count": 10,
   "metadata": {},
   "outputs": [
    {
     "data": {
      "image/png": "[encoded data removed]",
      "text/plain": [
       "<matplotlib.figure.Figure at 0x2777b5a8c18>"
      ]
     },
     "metadata": {},
     "output_type": "display_data"
    }
   ],
   "source": [
    "#below code is for bar graph:\n",
    "\n",
    "from matplotlib import pyplot as p1\n",
    "from matplotlib import style\n",
    "style.use('seaborn-ticks')\n",
    "x=[1,2,3,4,5]\n",
    "y=[8,9,0,4,6]\n",
    "a=[6,7,8,9,4]\n",
    "b=[0,3,7,9,3]\n",
    "\n",
    "p1.bar(x,y,color ='b',label ='bar1')\n",
    "p1.bar(a,b,color ='c',label ='bar2')\n",
    "p1.title('bar graph')\n",
    "p1.xlabel('X axis')\n",
    "p1.ylabel('Y axis')\n",
    "p1.legend()\n",
    "p1.grid(True,color ='k')\n",
    "p1.show()"
   ]
  },
  {
   "cell_type": "code",
   "execution_count": 5,
   "metadata": {},
   "outputs": [
    {
     "ename": "AttributeError",
     "evalue": "module 'matplotlib' has no attribute 'help'",
     "output_type": "error",
     "traceback": [
      "\u001b[1;31m---------------------------------------------------------------------------\u001b[0m",
      "\u001b[1;31mAttributeError\u001b[0m                            Traceback (most recent call last)",
      "\u001b[1;32m<ipython-input-5-aec60b189692>\u001b[0m in \u001b[0;36m<module>\u001b[1;34m()\u001b[0m\n\u001b[0;32m      1\u001b[0m \u001b[1;32mimport\u001b[0m \u001b[0mmatplotlib\u001b[0m\u001b[1;33m\u001b[0m\u001b[0m\n\u001b[1;32m----> 2\u001b[1;33m \u001b[0mmatplotlib\u001b[0m\u001b[1;33m.\u001b[0m\u001b[0mhelp\u001b[0m\u001b[1;33m(\u001b[0m\u001b[0mpyplot\u001b[0m\u001b[1;33m)\u001b[0m\u001b[1;33m\u001b[0m\u001b[0m\n\u001b[0m\u001b[0;32m      3\u001b[0m \u001b[1;33m\u001b[0m\u001b[0m\n\u001b[0;32m      4\u001b[0m \u001b[1;31m# from matplotlib import pyplot as p1\u001b[0m\u001b[1;33m\u001b[0m\u001b[1;33m\u001b[0m\u001b[0m\n\u001b[0;32m      5\u001b[0m \u001b[1;31m# from matplotlib import style\u001b[0m\u001b[1;33m\u001b[0m\u001b[1;33m\u001b[0m\u001b[0m\n",
      "\u001b[1;31mAttributeError\u001b[0m: module 'matplotlib' has no attribute 'help'"
     ]
    }
   ],
   "source": [
    "from matplotlib import pyplot as p1\n",
    "from matplotlib import style\n",
    "style.use('ggplot')\n",
    "\n",
    "x=[1,2,3,7,32,13,35,1,4,5,59,9,2,4,5,2,4,4,22,91,3]\n",
    "y=[10,20,30,40,50,60,70,80,90,100]\n",
    "\n",
    "\n",
    "p1.hist(x,y,color='g',rwidth=0.3,label='hist1')\n",
    "p1.title('Histogram')\n",
    "p1.xlabel('X')\n",
    "p1.ylabel('Y')\n",
    "p1.legend()\n",
    "p1.grid(True,color = 'k')\n",
    "p1.show()\n"
   ]
  },
  {
   "cell_type": "code",
   "execution_count": 31,
   "metadata": {},
   "outputs": [
    {
     "data": {
      "image/png": "[encoded data removed]",
      "text/plain": [
       "<matplotlib.figure.Figure at 0x2777b4facc0>"
      ]
     },
     "metadata": {},
     "output_type": "display_data"
    }
   ],
   "source": [
    "# The below code is for scatter plot\n",
    "from matplotlib import pyplot as p1\n",
    "from matplotlib import style as s1\n",
    "\n",
    "s1.use('ggplot')\n",
    "\n",
    "x=[1,2,3,4,5,6,7,8,9]\n",
    "y=[4,5,6,7,8,0,2,4,6]\n",
    "a=[4,5,6,7,8,0,2,4,6]\n",
    "b=[1,2,3,4,5,6,7,8,9]\n",
    "\n",
    "p1.scatter(x,y,color ='b',label ='Scatter',marker='+',s=40)\n",
    "p1.scatter(a,b,color ='r',label ='Scatter',marker='*',s=50)\n",
    "p1.legend()\n",
    "p1.legend()\n",
    "p1.title('Scatter')\n",
    "p1.xlabel('xaxis-->')\n",
    "p1.ylabel('yaxis-->')\n",
    "p1.show()"
   ]
  },
  {
   "cell_type": "code",
   "execution_count": 38,
   "metadata": {},
   "outputs": [
    {
     "data": {
      "image/png": "[encoded data removed]",
      "text/plain": [
       "<matplotlib.figure.Figure at 0x20036bdd9e8>"
      ]
     },
     "metadata": {},
     "output_type": "display_data"
    }
   ],
   "source": [
    "# The below syntax for pieplot:\n",
    "from matplotlib import pyplot as px\n",
    "from matplotlib import style as sx\n",
    "sx.use('ggplot')\n",
    "x=[1,2,3,5]\n",
    "px.pie(x,colors=['c','b','g','y'],labels=['study','sleep','eat','walk'],startangle=70,explode=[0,0,0,0.1],shadow=True)\n",
    "px.show()"
   ]
  },
  {
   "cell_type": "markdown",
   "metadata": {},
   "source": [
    "## Sklearn"
   ]
  },
  {
   "cell_type": "code",
   "execution_count": 35,
   "metadata": {},
   "outputs": [
    {
     "name": "stdout",
     "output_type": "stream",
     "text": [
      "['setosa' 'versicolor' 'virginica']\n"
     ]
    },
    {
     "data": {
      "text/plain": [
       "array([1, 1])"
      ]
     },
     "execution_count": 35,
     "metadata": {},
     "output_type": "execute_result"
    }
   ],
   "source": [
    "# creating machine learning model using sklearn\n",
    "from sklearn.datasets import load_iris\n",
    "from sklearn.neighbors import KNeighborsClassifier\n",
    "from sklearn import metrics\n",
    "iris=load_iris()\n",
    "# #type(iris)\n",
    "#print(iris.data) # data present in the load_iris \n",
    "# print(iris.feature_names)\n",
    "print(iris.target_names)\n",
    "X=iris.data\n",
    "y=iris.target\n",
    "knn=KNeighborsClassifier(n_neighbors=1)\n",
    "knn.fit(X,y)\n",
    "knn.predict([[4.2,2,3,2.1],[1,2,3,1]])"
   ]
  },
  {
   "cell_type": "code",
   "execution_count": 42,
   "metadata": {},
   "outputs": [
    {
     "data": {
      "text/plain": [
       "<matplotlib.text.Text at 0x20039eb6240>"
      ]
     },
     "execution_count": 42,
     "metadata": {},
     "output_type": "execute_result"
    },
    {
     "data": {
      "image/png": "[encoded data removed]",
      "text/plain": [
       "<matplotlib.figure.Figure at 0x200375bcd30>"
      ]
     },
     "metadata": {},
     "output_type": "display_data"
    }
   ],
   "source": [
    "#by train test split method for KNN\n",
    "from sklearn.neighbors import KNeighborsClassifier\n",
    "from sklearn import metrics\n",
    "from sklearn.cross_validation import train_test_split\n",
    "from sklearn.datasets import load_iris\n",
    "from matplotlib import pyplot as plt\n",
    "%matplotlib inline\n",
    "iris=load_iris()\n",
    "X=iris.data\n",
    "y=iris.target\n",
    "X_train,X_test,y_train,y_test=train_test_split(X,y,random_state=4,test_size=0.4)\n",
    "score=[]\n",
    "krange=range(1,31)\n",
    "for k in krange:\n",
    "    knn=KNeighborsClassifier(n_neighbors=k)\n",
    "    knn.fit(X_train,y_train)\n",
    "    y_pre=knn.predict(X_test)\n",
    "    score.append(metrics.accuracy_score(y_test,y_pre))\n",
    "plt.plot(krange,score)\n",
    "plt.xlabel('Value of K in knn')\n",
    "plt.ylabel('Testing accuracy')"
   ]
  },
  {
   "cell_type": "code",
   "execution_count": 40,
   "metadata": {},
   "outputs": [
    {
     "data": {
      "text/plain": [
       "<matplotlib.text.Text at 0x20039e3a588>"
      ]
     },
     "execution_count": 40,
     "metadata": {},
     "output_type": "execute_result"
    },
    {
     "data": {
      "image/png": "[encoded data removed]",
      "text/plain": [
       "<matplotlib.figure.Figure at 0x2003717ed30>"
      ]
     },
     "metadata": {},
     "output_type": "display_data"
    }
   ],
   "source": [
    "# by cross_validation method for KNN\n",
    "from sklearn.datasets import load_iris\n",
    "from sklearn.cross_validation import cross_val_score\n",
    "from sklearn.neighbors import KNeighborsClassifier\n",
    "from matplotlib import pyplot as plt\n",
    "%matplotlib inline\n",
    "iris=load_iris()\n",
    "X=iris.data\n",
    "y=iris.target\n",
    "krange=range(1,31)\n",
    "list=[]\n",
    "for k in krange:\n",
    "    knn=KNeighborsClassifier(n_neighbors=k)\n",
    "    score=cross_val_score(knn,X,y,cv=10,scoring='accuracy')\n",
    "    list.append(score.mean())\n",
    "plt.plot(krange,list)\n",
    "plt.xlabel('Values of k in KNN')\n",
    "plt.ylabel('Testing Accuracy')"
   ]
  }
 ],
 "metadata": {
  "kernelspec": {
   "display_name": "Python 3",
   "language": "python",
   "name": "python3"
  },
  "language_info": {
   "codemirror_mode": {
    "name": "ipython",
    "version": 3
   },
   "file_extension": ".py",
   "mimetype": "text/x-python",
   "name": "python",
   "nbconvert_exporter": "python",
   "pygments_lexer": "ipython3",
   "version": "3.5.2"
  }
 },
 "nbformat": 4,
 "nbformat_minor": 2
}
